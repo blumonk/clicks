{
 "metadata": {
  "name": "",
  "signature": "sha256:892aa543d67bbe71a44026f3522ffa8dc60669f7fec3258e31b86f780c1493d9"
 },
 "nbformat": 3,
 "nbformat_minor": 0,
 "worksheets": [
  {
   "cells": [
    {
     "cell_type": "code",
     "collapsed": false,
     "input": [
      "from pandas import DataFrame, read_csv\n",
      "import matplotlib.pyplot as plt\n",
      "import pandas as pd\n",
      "import re\n",
      "%matplotlib inline"
     ],
     "language": "python",
     "metadata": {},
     "outputs": [],
     "prompt_number": 1
    },
    {
     "cell_type": "markdown",
     "metadata": {},
     "source": [
      "### Read CSV. Convert all date records to ordinal representation."
     ]
    },
    {
     "cell_type": "code",
     "collapsed": false,
     "input": [
      "first_cap_re = re.compile('(.)([A-Z][a-z]+)')\n",
      "all_cap_re = re.compile('([a-z0-9])([A-Z])')\n",
      "def convert(name):\n",
      "    s1 = first_cap_re.sub(r'\\1_\\2', name)\n",
      "    return all_cap_re.sub(r'\\1_\\2', s1).lower()\n",
      "\n",
      "location = r'/home/blumonk/diploma/click.csv'\n",
      "clicks = read_csv(location).rename(columns=convert)\n",
      "\n",
      "to_ord = lambda dt: dt.toordinal()\n",
      "clicks.date = pd.to_datetime(clicks.date).apply(to_ord)\n",
      "clicks.date_from = pd.to_datetime(clicks.date_from).apply(to_ord)\n",
      "clicks.date_back = pd.to_datetime(clicks.date_back).apply(to_ord)\n",
      "\n",
      "clicks.dtypes"
     ],
     "language": "python",
     "metadata": {},
     "outputs": [
      {
       "metadata": {},
       "output_type": "pyout",
       "prompt_number": 83,
       "text": [
        "id               int64\n",
        "iata_from       object\n",
        "iata_to         object\n",
        "referer         object\n",
        "return           int64\n",
        "date             int64\n",
        "adt              int64\n",
        "chd              int64\n",
        "inf              int64\n",
        "flight_class    object\n",
        "price            int64\n",
        "total_price      int64\n",
        "a_days           int64\n",
        "combo            int64\n",
        "days             int64\n",
        "date_from        int64\n",
        "date_back        int64\n",
        "mobile           int64\n",
        "book             int64\n",
        "iso_from        object\n",
        "iso_to          object\n",
        "ak_from         object\n",
        "ak_to           object\n",
        "combo_type      object\n",
        "pr_to            int64\n",
        "pr_back          int64\n",
        "dtype: object"
       ]
      }
     ],
     "prompt_number": 83
    },
    {
     "cell_type": "markdown",
     "metadata": {},
     "source": [
      "### Replace all categorical variables with integral labels."
     ]
    },
    {
     "cell_type": "code",
     "collapsed": false,
     "input": [
      "from collections import defaultdict\n",
      "from sklearn.preprocessing import LabelEncoder\n",
      "\n",
      "encoders_dict = defaultdict(LabelEncoder)\n",
      "categorical = ['iata_from', 'iata_to', 'referer', 'flight_class', 'iso_from', 'iso_to', 'ak_from', 'ak_to', 'combo_type']\n",
      "labeled_clicks = clicks.apply(lambda x: encoders_dict[x.name].fit_transform(x.astype(str)) if x.name in categorical else x)"
     ],
     "language": "python",
     "metadata": {},
     "outputs": [],
     "prompt_number": 84
    },
    {
     "cell_type": "code",
     "collapsed": false,
     "input": [
      "labeled_clicks.head(3)"
     ],
     "language": "python",
     "metadata": {},
     "outputs": [
      {
       "html": [
        "<div style=\"max-width:1500px;overflow:auto;\">\n",
        "<table border=\"1\" class=\"dataframe\">\n",
        "  <thead>\n",
        "    <tr style=\"text-align: right;\">\n",
        "      <th></th>\n",
        "      <th>id</th>\n",
        "      <th>iata_from</th>\n",
        "      <th>iata_to</th>\n",
        "      <th>referer</th>\n",
        "      <th>return</th>\n",
        "      <th>date</th>\n",
        "      <th>adt</th>\n",
        "      <th>chd</th>\n",
        "      <th>inf</th>\n",
        "      <th>flight_class</th>\n",
        "      <th>...</th>\n",
        "      <th>date_back</th>\n",
        "      <th>mobile</th>\n",
        "      <th>book</th>\n",
        "      <th>iso_from</th>\n",
        "      <th>iso_to</th>\n",
        "      <th>ak_from</th>\n",
        "      <th>ak_to</th>\n",
        "      <th>combo_type</th>\n",
        "      <th>pr_to</th>\n",
        "      <th>pr_back</th>\n",
        "    </tr>\n",
        "  </thead>\n",
        "  <tbody>\n",
        "    <tr>\n",
        "      <th>0</th>\n",
        "      <td>1813056</td>\n",
        "      <td>401</td>\n",
        "      <td>91</td>\n",
        "      <td>8</td>\n",
        "      <td>1</td>\n",
        "      <td>736218</td>\n",
        "      <td>2</td>\n",
        "      <td>1</td>\n",
        "      <td>0</td>\n",
        "      <td>1</td>\n",
        "      <td>...</td>\n",
        "      <td>736253</td>\n",
        "      <td>1</td>\n",
        "      <td>0</td>\n",
        "      <td>128</td>\n",
        "      <td>55</td>\n",
        "      <td>148</td>\n",
        "      <td>265</td>\n",
        "      <td>7</td>\n",
        "      <td>2</td>\n",
        "      <td>2</td>\n",
        "    </tr>\n",
        "    <tr>\n",
        "      <th>1</th>\n",
        "      <td>1813055</td>\n",
        "      <td>14</td>\n",
        "      <td>857</td>\n",
        "      <td>14</td>\n",
        "      <td>0</td>\n",
        "      <td>736218</td>\n",
        "      <td>1</td>\n",
        "      <td>0</td>\n",
        "      <td>0</td>\n",
        "      <td>1</td>\n",
        "      <td>...</td>\n",
        "      <td>736222</td>\n",
        "      <td>1</td>\n",
        "      <td>0</td>\n",
        "      <td>128</td>\n",
        "      <td>156</td>\n",
        "      <td>69</td>\n",
        "      <td>265</td>\n",
        "      <td>6</td>\n",
        "      <td>1</td>\n",
        "      <td>0</td>\n",
        "    </tr>\n",
        "    <tr>\n",
        "      <th>2</th>\n",
        "      <td>1813054</td>\n",
        "      <td>653</td>\n",
        "      <td>620</td>\n",
        "      <td>14</td>\n",
        "      <td>0</td>\n",
        "      <td>736218</td>\n",
        "      <td>1</td>\n",
        "      <td>0</td>\n",
        "      <td>1</td>\n",
        "      <td>1</td>\n",
        "      <td>...</td>\n",
        "      <td>736226</td>\n",
        "      <td>0</td>\n",
        "      <td>0</td>\n",
        "      <td>128</td>\n",
        "      <td>156</td>\n",
        "      <td>243</td>\n",
        "      <td>265</td>\n",
        "      <td>6</td>\n",
        "      <td>1</td>\n",
        "      <td>0</td>\n",
        "    </tr>\n",
        "  </tbody>\n",
        "</table>\n",
        "<p>3 rows \u00d7 26 columns</p>\n",
        "</div>"
       ],
       "metadata": {},
       "output_type": "pyout",
       "prompt_number": 85,
       "text": [
        "        id  iata_from  iata_to  referer  return    date  adt  chd  inf  \\\n",
        "0  1813056        401       91        8       1  736218    2    1    0   \n",
        "1  1813055         14      857       14       0  736218    1    0    0   \n",
        "2  1813054        653      620       14       0  736218    1    0    1   \n",
        "\n",
        "   flight_class   ...     date_back  mobile  book  iso_from  iso_to  ak_from  \\\n",
        "0             1   ...        736253       1     0       128      55      148   \n",
        "1             1   ...        736222       1     0       128     156       69   \n",
        "2             1   ...        736226       0     0       128     156      243   \n",
        "\n",
        "   ak_to  combo_type  pr_to  pr_back  \n",
        "0    265           7      2        2  \n",
        "1    265           6      1        0  \n",
        "2    265           6      1        0  \n",
        "\n",
        "[3 rows x 26 columns]"
       ]
      }
     ],
     "prompt_number": 85
    },
    {
     "cell_type": "markdown",
     "metadata": {},
     "source": [
      "### A helper function that fits specific algorithm on data"
     ]
    },
    {
     "cell_type": "code",
     "collapsed": false,
     "input": [
      "from sklearn.model_selection import train_test_split\n",
      "from sklearn import metrics\n",
      "\n",
      "import numpy as np\n",
      "\n",
      "def model_fit(algo, data, predictors=None, target='book', train_size=0.6, show_feature_importance=True):\n",
      "    # Use all columns as predictors by default\n",
      "    if predictors == None:\n",
      "        predictors = list(data.columns)\n",
      "        predictors.remove(target)\n",
      "    \n",
      "    # Split data into train and test subsets. Fit algorithm on train data:\n",
      "    x_train, x_test, y_train, y_test = train_test_split(data[predictors], data[target])\n",
      "    algo.fit(x_train, y_train)\n",
      "    test_predictions = algo.predict(x_test)\n",
      "    test_probs = algo.predict_proba(x_test)[:,1]\n",
      "    \n",
      "    # Print model report:\n",
      "    print(\"Accuracy : %.3f\" % metrics.accuracy_score(y_test, test_predictions))\n",
      "    print(\"Log-loss score: %.3f\" % metrics.log_loss(y_test, test_probs))\n",
      "        \n",
      "    # Print Feature Importance:\n",
      "    if show_feature_importance:\n",
      "        feat_imp = pd.Series(algo.feature_importances_, predictors).sort_values(ascending=False)\n",
      "        feat_imp.plot(kind='bar', title='Feature Importances')\n",
      "        plt.ylabel('Feature Importance Score')\n",
      "    \n",
      "    return algo"
     ],
     "language": "python",
     "metadata": {},
     "outputs": [],
     "prompt_number": 88
    },
    {
     "cell_type": "code",
     "collapsed": false,
     "input": [
      "from sklearn.ensemble import GradientBoostingClassifier\n",
      "\n",
      "gbm = GradientBoostingClassifier(random_state=10)\n",
      "_ = model_fit(gbm, labeled_clicks)"
     ],
     "language": "python",
     "metadata": {},
     "outputs": [
      {
       "output_type": "stream",
       "stream": "stdout",
       "text": [
        "Accuracy : 0.930\n",
        "Log-loss score: 0.241"
       ]
      },
      {
       "output_type": "stream",
       "stream": "stdout",
       "text": [
        "\n"
       ]
      },
      {
       "metadata": {},
       "output_type": "display_data",
       "png": "[encoded data removed]",
       "text": [
        "<matplotlib.figure.Figure at 0x7f0e421b87f0>"
       ]
      }
     ],
     "prompt_number": 89
    },
    {
     "cell_type": "code",
     "collapsed": false,
     "input": [
      "from sklearn.model_selection import GridSearchCV\n",
      "\n",
      "n_estimators = {'n_estimators':range(20,81,10)}\n",
      "gsearch = GridSearchCV(estimator=GradientBoostingClassifier(learning_rate=0.1, min_samples_split=100,\n",
      "                                                            min_samples_leaf=20, max_depth=8, max_features='sqrt',\n",
      "                                                            subsample=0.8, random_state=10),\n",
      "                       param_grid=n_estimators, scoring='f1', n_jobs=4, iid=False, cv=5)\n",
      "gsearch.fit(train[predictors], train[target])"
     ],
     "language": "python",
     "metadata": {},
     "outputs": []
    }
   ],
   "metadata": {}
  }
 ]
}