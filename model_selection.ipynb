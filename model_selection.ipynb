{
 "metadata": {
  "name": "",
  "signature": "sha256:62179a5dabc11ba330e9d533af357d75bcaeef2fda054019a64196d40a8282a4"
 },
 "nbformat": 3,
 "nbformat_minor": 0,
 "worksheets": [
  {
   "cells": [
    {
     "cell_type": "markdown",
     "metadata": {},
     "source": [
      "# Data preparation"
     ]
    },
    {
     "cell_type": "code",
     "collapsed": false,
     "input": [
      "%run 'prepare.py'\n",
      "%matplotlib inline"
     ],
     "language": "python",
     "metadata": {},
     "outputs": [],
     "prompt_number": 1
    },
    {
     "cell_type": "markdown",
     "metadata": {},
     "source": [
      "### Drop all big categorical features, use one-hot encoding on small categorical features, scale features"
     ]
    },
    {
     "cell_type": "code",
     "collapsed": false,
     "input": [
      "from sklearn import preprocessing\n",
      "from sklearn.preprocessing import scale\n",
      "\n",
      "to_drop = ['id', 'iata_from', 'iata_to', 'iso_from', \n",
      "           'iso_to', 'ak_from', 'ak_to', 'combo_type']\n",
      "to_convert = ['flight_class', 'combo', 'mobile', 'referer']\n",
      "to_scale = ['date', 'price', 'total_price', 'a_days', 'days', 'date_from', 'date_back']\n",
      "\n",
      "prepared = clicks.drop(to_drop, axis=1)\n",
      "prepared = prepared[prepared.total_price < 2000000]\n",
      "\n",
      "for feature in to_convert:\n",
      "    dummies = pd.get_dummies(prepared[feature], prefix=feature)\n",
      "    prepared = pd.concat([prepared.drop(feature, axis=1), dummies], axis=1)\n",
      "\n",
      "for feature in to_scale:\n",
      "    prepared[feature] = scale(prepared[feature])\n",
      "\n",
      "prepared.head(3)"
     ],
     "language": "python",
     "metadata": {},
     "outputs": [
      {
       "html": [
        "<div style=\"max-width:1500px;overflow:auto;\">\n",
        "<table border=\"1\" class=\"dataframe\">\n",
        "  <thead>\n",
        "    <tr style=\"text-align: right;\">\n",
        "      <th></th>\n",
        "      <th>return</th>\n",
        "      <th>date</th>\n",
        "      <th>adt</th>\n",
        "      <th>chd</th>\n",
        "      <th>inf</th>\n",
        "      <th>price</th>\n",
        "      <th>total_price</th>\n",
        "      <th>a_days</th>\n",
        "      <th>days</th>\n",
        "      <th>date_from</th>\n",
        "      <th>...</th>\n",
        "      <th>referer_jizo</th>\n",
        "      <th>referer_kayak</th>\n",
        "      <th>referer_megatrip</th>\n",
        "      <th>referer_momondo</th>\n",
        "      <th>referer_onlinebilet</th>\n",
        "      <th>referer_skylet</th>\n",
        "      <th>referer_skyscanner</th>\n",
        "      <th>referer_tripadviser</th>\n",
        "      <th>referer_vavia</th>\n",
        "      <th>referer_yandex</th>\n",
        "    </tr>\n",
        "  </thead>\n",
        "  <tbody>\n",
        "    <tr>\n",
        "      <th>0</th>\n",
        "      <td>1</td>\n",
        "      <td>1.744608</td>\n",
        "      <td>2</td>\n",
        "      <td>1</td>\n",
        "      <td>0</td>\n",
        "      <td>-0.521755</td>\n",
        "      <td>-0.149794</td>\n",
        "      <td>0.072214</td>\n",
        "      <td>-0.121384</td>\n",
        "      <td>1.511502</td>\n",
        "      <td>...</td>\n",
        "      <td>0</td>\n",
        "      <td>0</td>\n",
        "      <td>0</td>\n",
        "      <td>1</td>\n",
        "      <td>0</td>\n",
        "      <td>0</td>\n",
        "      <td>0</td>\n",
        "      <td>0</td>\n",
        "      <td>0</td>\n",
        "      <td>0</td>\n",
        "    </tr>\n",
        "    <tr>\n",
        "      <th>1</th>\n",
        "      <td>0</td>\n",
        "      <td>1.744608</td>\n",
        "      <td>1</td>\n",
        "      <td>0</td>\n",
        "      <td>0</td>\n",
        "      <td>-0.498217</td>\n",
        "      <td>-0.699748</td>\n",
        "      <td>-0.737759</td>\n",
        "      <td>-0.813059</td>\n",
        "      <td>0.963666</td>\n",
        "      <td>...</td>\n",
        "      <td>0</td>\n",
        "      <td>0</td>\n",
        "      <td>0</td>\n",
        "      <td>0</td>\n",
        "      <td>0</td>\n",
        "      <td>0</td>\n",
        "      <td>0</td>\n",
        "      <td>0</td>\n",
        "      <td>0</td>\n",
        "      <td>1</td>\n",
        "    </tr>\n",
        "    <tr>\n",
        "      <th>2</th>\n",
        "      <td>0</td>\n",
        "      <td>1.744608</td>\n",
        "      <td>1</td>\n",
        "      <td>0</td>\n",
        "      <td>1</td>\n",
        "      <td>-0.273350</td>\n",
        "      <td>-0.561361</td>\n",
        "      <td>-0.596894</td>\n",
        "      <td>-0.813059</td>\n",
        "      <td>1.058942</td>\n",
        "      <td>...</td>\n",
        "      <td>0</td>\n",
        "      <td>0</td>\n",
        "      <td>0</td>\n",
        "      <td>0</td>\n",
        "      <td>0</td>\n",
        "      <td>0</td>\n",
        "      <td>0</td>\n",
        "      <td>0</td>\n",
        "      <td>0</td>\n",
        "      <td>1</td>\n",
        "    </tr>\n",
        "  </tbody>\n",
        "</table>\n",
        "<p>3 rows \u00d7 35 columns</p>\n",
        "</div>"
       ],
       "metadata": {},
       "output_type": "pyout",
       "prompt_number": 4,
       "text": [
        "   return      date  adt  chd  inf     price  total_price    a_days      days  \\\n",
        "0       1  1.744608    2    1    0 -0.521755    -0.149794  0.072214 -0.121384   \n",
        "1       0  1.744608    1    0    0 -0.498217    -0.699748 -0.737759 -0.813059   \n",
        "2       0  1.744608    1    0    1 -0.273350    -0.561361 -0.596894 -0.813059   \n",
        "\n",
        "   date_from       ...        referer_jizo  referer_kayak  referer_megatrip  \\\n",
        "0   1.511502       ...                   0              0                 0   \n",
        "1   0.963666       ...                   0              0                 0   \n",
        "2   1.058942       ...                   0              0                 0   \n",
        "\n",
        "   referer_momondo  referer_onlinebilet  referer_skylet  referer_skyscanner  \\\n",
        "0                1                    0               0                   0   \n",
        "1                0                    0               0                   0   \n",
        "2                0                    0               0                   0   \n",
        "\n",
        "   referer_tripadviser  referer_vavia  referer_yandex  \n",
        "0                    0              0               0  \n",
        "1                    0              0               1  \n",
        "2                    0              0               1  \n",
        "\n",
        "[3 rows x 35 columns]"
       ]
      }
     ],
     "prompt_number": 4
    },
    {
     "cell_type": "markdown",
     "metadata": {},
     "source": [
      "# Model selection"
     ]
    },
    {
     "cell_type": "markdown",
     "metadata": {},
     "source": [
      "### Feature selection"
     ]
    },
    {
     "cell_type": "code",
     "collapsed": false,
     "input": [
      "from sklearn.feature_selection import SelectPercentile, f_classif\n",
      "from sklearn.model_selection import train_test_split\n",
      "\n",
      "data, target = prepared.drop('book', axis=1), prepared.book\n",
      "data = SelectPercentile(f_classif, percentile=60).fit_transform(data, target)\n",
      "\n",
      "x_train, x_test, y_train, y_test = train_test_split(data, target, test_size=0.4)\n",
      "dataset = (x_train, x_test, y_train, y_test)"
     ],
     "language": "python",
     "metadata": {},
     "outputs": [],
     "prompt_number": 18
    },
    {
     "cell_type": "code",
     "collapsed": false,
     "input": [
      "from sklearn import metrics\n",
      "\n",
      "def log_loss(algo, x_train, x_test, y_train, y_test):    \n",
      "    algo.fit(x_train, y_train)\n",
      "    test_probs = algo.predict_proba(x_test)[:,1]\n",
      "    train_probs = algo.predict_proba(x_train)[:,1]\n",
      "    return type(algo).__name__, metrics.log_loss(y_train, train_probs),\\\n",
      "                                metrics.log_loss(y_test, test_probs)"
     ],
     "language": "python",
     "metadata": {},
     "outputs": [],
     "prompt_number": 19
    },
    {
     "cell_type": "code",
     "collapsed": false,
     "input": [
      "from sklearn.dummy import DummyClassifier\n",
      "from sklearn.linear_model import LogisticRegression\n",
      "from sklearn.tree import DecisionTreeClassifier\n",
      "from sklearn.ensemble import GradientBoostingClassifier\n",
      "from sklearn.ensemble import BaggingClassifier\n",
      "from sklearn.ensemble import AdaBoostClassifier\n",
      "from sklearn.ensemble import RandomForestClassifier\n",
      "from sklearn.neural_network import MLPClassifier\n",
      "from sklearn.linear_model import SGDClassifier\n",
      "from sklearn.naive_bayes import GaussianNB\n",
      "\n",
      "classifiers = [\n",
      "    DummyClassifier(strategy='prior'),\n",
      "    LogisticRegression(),\n",
      "    GaussianNB(),    \n",
      "    DecisionTreeClassifier(max_depth=6),\n",
      "    RandomForestClassifier(max_depth=6, n_estimators=100),\n",
      "    MLPClassifier(alpha=1),\n",
      "    SGDClassifier(loss='log'),\n",
      "    BaggingClassifier(n_estimators=100),\n",
      "    AdaBoostClassifier(n_estimators=100),\n",
      "    GradientBoostingClassifier(max_depth=6),\n",
      "]\n",
      "\n",
      "for c in classifiers:\n",
      "    print(\"{:27}: {:.4f}, {:.4f}\".format(*log_loss(c, *dataset)))"
     ],
     "language": "python",
     "metadata": {},
     "outputs": [
      {
       "output_type": "stream",
       "stream": "stdout",
       "text": [
        "DummyClassifier            : 0.2525, 0.2521\n",
        "LogisticRegression         : 0.2449, 0.2444"
       ]
      },
      {
       "output_type": "stream",
       "stream": "stdout",
       "text": [
        "\n",
        "GaussianNB                 : 0.7869, 0.7895"
       ]
      },
      {
       "output_type": "stream",
       "stream": "stdout",
       "text": [
        "\n",
        "DecisionTreeClassifier     : 0.2449, 0.2452"
       ]
      },
      {
       "output_type": "stream",
       "stream": "stdout",
       "text": [
        "\n",
        "RandomForestClassifier     : 0.2444, 0.2445"
       ]
      },
      {
       "output_type": "stream",
       "stream": "stdout",
       "text": [
        "\n",
        "MLPClassifier              : 0.2467, 0.2461"
       ]
      },
      {
       "output_type": "stream",
       "stream": "stdout",
       "text": [
        "\n",
        "SGDClassifier              : 0.2464, 0.2457"
       ]
      },
      {
       "output_type": "stream",
       "stream": "stdout",
       "text": [
        "\n",
        "BaggingClassifier          : 0.0691, 0.4524"
       ]
      },
      {
       "output_type": "stream",
       "stream": "stdout",
       "text": [
        "\n",
        "AdaBoostClassifier         : 0.6812, 0.6812"
       ]
      },
      {
       "output_type": "stream",
       "stream": "stdout",
       "text": [
        "\n",
        "GradientBoostingClassifier : 0.2359, 0.2410"
       ]
      },
      {
       "output_type": "stream",
       "stream": "stdout",
       "text": [
        "\n"
       ]
      }
     ],
     "prompt_number": 20
    },
    {
     "cell_type": "code",
     "collapsed": false,
     "input": [
      "ref_columns = [c for c in prepared.columns if c.startswith('referer')]\n",
      "data, target = prepared[['a_days', 'total_price'] + ref_columns], prepared.book\n",
      "x_train, x_test, y_train, y_test = train_test_split(data, target, test_size=0.4)\n",
      "dataset = (x_train, x_test, y_train, y_test)"
     ],
     "language": "python",
     "metadata": {},
     "outputs": [],
     "prompt_number": 21
    },
    {
     "cell_type": "code",
     "collapsed": false,
     "input": [
      "for c in classifiers:\n",
      "    print(\"{:27}: {:.4f}, {:.4f}\".format(*log_loss(c, *dataset)))"
     ],
     "language": "python",
     "metadata": {},
     "outputs": [
      {
       "output_type": "stream",
       "stream": "stdout",
       "text": [
        "DummyClassifier            : 0.2529, 0.2516\n",
        "LogisticRegression         : 0.2487, 0.2475"
       ]
      },
      {
       "output_type": "stream",
       "stream": "stdout",
       "text": [
        "\n",
        "GaussianNB                 : 5.2213, 5.2269"
       ]
      },
      {
       "output_type": "stream",
       "stream": "stdout",
       "text": [
        "\n",
        "DecisionTreeClassifier     : 0.2481, 0.2485"
       ]
      },
      {
       "output_type": "stream",
       "stream": "stdout",
       "text": [
        "\n",
        "RandomForestClassifier     : 0.2481, 0.2474"
       ]
      },
      {
       "output_type": "stream",
       "stream": "stdout",
       "text": [
        "\n",
        "MLPClassifier              : 0.2505, 0.2492"
       ]
      },
      {
       "output_type": "stream",
       "stream": "stdout",
       "text": [
        "\n",
        "SGDClassifier              : 0.2489, 0.2476"
       ]
      },
      {
       "output_type": "stream",
       "stream": "stdout",
       "text": [
        "\n",
        "BaggingClassifier          : 0.0754, 1.1461"
       ]
      },
      {
       "output_type": "stream",
       "stream": "stdout",
       "text": [
        "\n",
        "AdaBoostClassifier         : 0.6816, 0.6816"
       ]
      },
      {
       "output_type": "stream",
       "stream": "stdout",
       "text": [
        "\n",
        "GradientBoostingClassifier : 0.2437, 0.2471"
       ]
      },
      {
       "output_type": "stream",
       "stream": "stdout",
       "text": [
        "\n"
       ]
      }
     ],
     "prompt_number": 24
    }
   ],
   "metadata": {}
  }
 ]
}