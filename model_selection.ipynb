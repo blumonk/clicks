{
 "metadata": {
  "name": "",
  "signature": "sha256:bff85ec4861de0505c9189672fafb96e0b44480ae545d2f60c9ad472ba5a8277"
 },
 "nbformat": 3,
 "nbformat_minor": 0,
 "worksheets": [
  {
   "cells": [
    {
     "cell_type": "markdown",
     "metadata": {},
     "source": [
      "# Data preparation"
     ]
    },
    {
     "cell_type": "code",
     "collapsed": false,
     "input": [
      "%run 'prepare.py'\n",
      "%matplotlib inline"
     ],
     "language": "python",
     "metadata": {},
     "outputs": [],
     "prompt_number": 1
    },
    {
     "cell_type": "markdown",
     "metadata": {},
     "source": [
      "### Add dummy features for top *n* most frequent values of specific categorical features"
     ]
    },
    {
     "cell_type": "code",
     "collapsed": false,
     "input": [
      "def add_dummies(dataset, features, top_ns):\n",
      "    assert len(features) == len(top_ns)\n",
      "    copy = dataset.copy()\n",
      "    for feature, top_n in zip(features, top_ns):\n",
      "        top = set(dataset.groupby(feature).size().sort_values(ascending=False)[:top_n].index)\n",
      "        new_feature = lambda x: '{}_{}'.format(feature, x)\n",
      "        for x in top:\n",
      "            copy[new_feature(x)] = (dataset[feature] == x)\n",
      "        copy[new_feature('other')] = 1 - sum(copy[new_feature(col)] for col in top)\n",
      "    return copy"
     ],
     "language": "python",
     "metadata": {},
     "outputs": [],
     "prompt_number": 2
    },
    {
     "cell_type": "code",
     "collapsed": false,
     "input": [
      "with_dummies = add_dummies(clicks, ['iata_from', 'iata_to', 'iso_from', 'iso_to'], [20] * 4)"
     ],
     "language": "python",
     "metadata": {},
     "outputs": [],
     "prompt_number": 3
    },
    {
     "cell_type": "markdown",
     "metadata": {},
     "source": [
      "### Drop all big categorical features, use one-hot encoding on small categorical features, scale features"
     ]
    },
    {
     "cell_type": "code",
     "collapsed": false,
     "input": [
      "from sklearn import preprocessing\n",
      "from sklearn.preprocessing import scale\n",
      "\n",
      "to_drop = ['id', 'ak_from', 'ak_to', 'iso_from', 'iso_to', 'iata_from', 'iata_to']\n",
      "to_convert = ['flight_class', 'combo', 'mobile', 'referer', 'combo_type']\n",
      "to_scale = ['date', 'price', 'total_price', 'a_days', 'days', 'date_from', 'date_back']\n",
      "\n",
      "prepared = with_dummies.drop(to_drop, axis=1)\n",
      "prepared = prepared[prepared.total_price < 2000000]\n",
      "\n",
      "for feature in to_convert:\n",
      "    dummies = pd.get_dummies(prepared[feature], prefix=feature)\n",
      "    prepared = pd.concat([prepared.drop(feature, axis=1), dummies], axis=1)\n",
      "\n",
      "for feature in to_scale:\n",
      "    prepared[feature] = scale(prepared[feature])\n",
      "\n",
      "prepared.head(3)"
     ],
     "language": "python",
     "metadata": {},
     "outputs": [
      {
       "html": [
        "<div style=\"max-width:1500px;overflow:auto;\">\n",
        "<table border=\"1\" class=\"dataframe\">\n",
        "  <thead>\n",
        "    <tr style=\"text-align: right;\">\n",
        "      <th></th>\n",
        "      <th>return</th>\n",
        "      <th>date</th>\n",
        "      <th>adt</th>\n",
        "      <th>chd</th>\n",
        "      <th>inf</th>\n",
        "      <th>price</th>\n",
        "      <th>total_price</th>\n",
        "      <th>a_days</th>\n",
        "      <th>days</th>\n",
        "      <th>date_from</th>\n",
        "      <th>...</th>\n",
        "      <th>referer_vavia</th>\n",
        "      <th>referer_yandex</th>\n",
        "      <th>combo_type_CC</th>\n",
        "      <th>combo_type_CG</th>\n",
        "      <th>combo_type_CH</th>\n",
        "      <th>combo_type_CT</th>\n",
        "      <th>combo_type_GC</th>\n",
        "      <th>combo_type_GG</th>\n",
        "      <th>combo_type_OW</th>\n",
        "      <th>combo_type_RT</th>\n",
        "    </tr>\n",
        "  </thead>\n",
        "  <tbody>\n",
        "    <tr>\n",
        "      <th>0</th>\n",
        "      <td>1</td>\n",
        "      <td>1.744608</td>\n",
        "      <td>2</td>\n",
        "      <td>1</td>\n",
        "      <td>0</td>\n",
        "      <td>-0.521755</td>\n",
        "      <td>-0.149794</td>\n",
        "      <td>0.072214</td>\n",
        "      <td>-0.121384</td>\n",
        "      <td>1.511502</td>\n",
        "      <td>...</td>\n",
        "      <td>0</td>\n",
        "      <td>0</td>\n",
        "      <td>0</td>\n",
        "      <td>0</td>\n",
        "      <td>0</td>\n",
        "      <td>0</td>\n",
        "      <td>0</td>\n",
        "      <td>0</td>\n",
        "      <td>0</td>\n",
        "      <td>1</td>\n",
        "    </tr>\n",
        "    <tr>\n",
        "      <th>1</th>\n",
        "      <td>0</td>\n",
        "      <td>1.744608</td>\n",
        "      <td>1</td>\n",
        "      <td>0</td>\n",
        "      <td>0</td>\n",
        "      <td>-0.498217</td>\n",
        "      <td>-0.699748</td>\n",
        "      <td>-0.737759</td>\n",
        "      <td>-0.813059</td>\n",
        "      <td>0.963666</td>\n",
        "      <td>...</td>\n",
        "      <td>0</td>\n",
        "      <td>1</td>\n",
        "      <td>0</td>\n",
        "      <td>0</td>\n",
        "      <td>0</td>\n",
        "      <td>0</td>\n",
        "      <td>0</td>\n",
        "      <td>0</td>\n",
        "      <td>1</td>\n",
        "      <td>0</td>\n",
        "    </tr>\n",
        "    <tr>\n",
        "      <th>2</th>\n",
        "      <td>0</td>\n",
        "      <td>1.744608</td>\n",
        "      <td>1</td>\n",
        "      <td>0</td>\n",
        "      <td>1</td>\n",
        "      <td>-0.273350</td>\n",
        "      <td>-0.561361</td>\n",
        "      <td>-0.596894</td>\n",
        "      <td>-0.813059</td>\n",
        "      <td>1.058942</td>\n",
        "      <td>...</td>\n",
        "      <td>0</td>\n",
        "      <td>1</td>\n",
        "      <td>0</td>\n",
        "      <td>0</td>\n",
        "      <td>0</td>\n",
        "      <td>0</td>\n",
        "      <td>0</td>\n",
        "      <td>0</td>\n",
        "      <td>1</td>\n",
        "      <td>0</td>\n",
        "    </tr>\n",
        "  </tbody>\n",
        "</table>\n",
        "<p>3 rows \u00d7 127 columns</p>\n",
        "</div>"
       ],
       "metadata": {},
       "output_type": "pyout",
       "prompt_number": 5,
       "text": [
        "   return      date  adt  chd  inf     price  total_price    a_days      days  \\\n",
        "0       1  1.744608    2    1    0 -0.521755    -0.149794  0.072214 -0.121384   \n",
        "1       0  1.744608    1    0    0 -0.498217    -0.699748 -0.737759 -0.813059   \n",
        "2       0  1.744608    1    0    1 -0.273350    -0.561361 -0.596894 -0.813059   \n",
        "\n",
        "   date_from      ...       referer_vavia  referer_yandex  combo_type_CC  \\\n",
        "0   1.511502      ...                   0               0              0   \n",
        "1   0.963666      ...                   0               1              0   \n",
        "2   1.058942      ...                   0               1              0   \n",
        "\n",
        "   combo_type_CG combo_type_CH combo_type_CT combo_type_GC combo_type_GG  \\\n",
        "0              0             0             0             0             0   \n",
        "1              0             0             0             0             0   \n",
        "2              0             0             0             0             0   \n",
        "\n",
        "  combo_type_OW combo_type_RT  \n",
        "0             0             1  \n",
        "1             1             0  \n",
        "2             1             0  \n",
        "\n",
        "[3 rows x 127 columns]"
       ]
      }
     ],
     "prompt_number": 5
    },
    {
     "cell_type": "markdown",
     "metadata": {},
     "source": [
      "# Model selection"
     ]
    },
    {
     "cell_type": "markdown",
     "metadata": {},
     "source": [
      "### Feature selection"
     ]
    },
    {
     "cell_type": "code",
     "collapsed": false,
     "input": [
      "from sklearn.feature_selection import SelectPercentile, f_classif\n",
      "from sklearn.model_selection import train_test_split\n",
      "\n",
      "data, target = prepared.drop('book', axis=1), prepared.book\n",
      "#data = SelectPercentile(f_classif, percentile=60).fit_transform(data, target)\n",
      "\n",
      "x_train, x_test, y_train, y_test = train_test_split(data, target, test_size=0.4)\n",
      "dataset = (x_train, x_test, y_train, y_test)"
     ],
     "language": "python",
     "metadata": {},
     "outputs": [],
     "prompt_number": 6
    },
    {
     "cell_type": "code",
     "collapsed": false,
     "input": [
      "from sklearn import metrics\n",
      "\n",
      "def log_loss(algo, x_train, x_test, y_train, y_test):    \n",
      "    algo.fit(x_train, y_train)\n",
      "    test_probs = algo.predict_proba(x_test)[:,1]\n",
      "    train_probs = algo.predict_proba(x_train)[:,1]\n",
      "    return type(algo).__name__, metrics.log_loss(y_train, train_probs),\\\n",
      "                                metrics.log_loss(y_test, test_probs)"
     ],
     "language": "python",
     "metadata": {},
     "outputs": [],
     "prompt_number": 7
    },
    {
     "cell_type": "code",
     "collapsed": false,
     "input": [
      "from time import time\n",
      "\n",
      "def learning_curve(algo, step=5000, verbose=True):\n",
      "    test_errors = []\n",
      "    train_errors = []\n",
      "    start = time()\n",
      "    percentage = 10\n",
      "    for n in range(1000, len(prepared) + step, step):\n",
      "        dataset = (x_train[:n], x_test, y_train[:n], y_test)\n",
      "        name, x, y = log_loss(algo, *dataset)\n",
      "        train_errors.append(x)\n",
      "        test_errors.append(y)\n",
      "        done = n * 100 / len(prepared)\n",
      "        if verbose and done > percentage:\n",
      "            print('{:.0f}%({:.1f}s)'.format(done, time() - start), end=' ')\n",
      "            percentage += 10\n",
      "    plt.figure(figsize=(10, 5))\n",
      "    plt.plot(train_errors)\n",
      "    plt.plot(test_errors)\n",
      "    ax = plt.gca()\n",
      "    ax.set_ylabel('Logarithmic loss')\n",
      "    ax.set_xlabel('Time');\n",
      "    plt.title('{} learning curve'.format(type(algo).__name__))"
     ],
     "language": "python",
     "metadata": {},
     "outputs": [],
     "prompt_number": 8
    },
    {
     "cell_type": "code",
     "collapsed": false,
     "input": [
      "from sklearn.linear_model import LogisticRegression\n",
      "\n",
      "learning_curve(LogisticRegression(), 10000, True)"
     ],
     "language": "python",
     "metadata": {},
     "outputs": [
      {
       "output_type": "stream",
       "stream": "stdout",
       "text": [
        "10%(38.8s) 20%(95.9s)"
       ]
      },
      {
       "output_type": "stream",
       "stream": "stdout",
       "text": [
        " 30%(181.1s)"
       ]
      },
      {
       "output_type": "stream",
       "stream": "stdout",
       "text": [
        " 40%(286.4s)"
       ]
      },
      {
       "output_type": "stream",
       "stream": "stdout",
       "text": [
        " 50%(417.9s)"
       ]
      },
      {
       "output_type": "stream",
       "stream": "stdout",
       "text": [
        " 60%(575.1s)"
       ]
      },
      {
       "output_type": "stream",
       "stream": "stdout",
       "text": [
        " 70%(736.7s)"
       ]
      },
      {
       "output_type": "stream",
       "stream": "stdout",
       "text": [
        " 81%(896.8s)"
       ]
      },
      {
       "output_type": "stream",
       "stream": "stdout",
       "text": [
        " 91%(1062.4s)"
       ]
      },
      {
       "output_type": "stream",
       "stream": "stdout",
       "text": [
        " 101%(1219.6s)"
       ]
      },
      {
       "output_type": "stream",
       "stream": "stdout",
       "text": [
        " "
       ]
      },
      {
       "metadata": {},
       "output_type": "display_data",
       "png": "[encoded data removed]",
       "text": [
        "<matplotlib.figure.Figure at 0x7f2b1d4d09e8>"
       ]
      }
     ],
     "prompt_number": 9
    },
    {
     "cell_type": "code",
     "collapsed": false,
     "input": [
      "from sklearn.tree import DecisionTreeClassifier\n",
      "\n",
      "learning_curve(DecisionTreeClassifier(max_depth=6), 10000, True)"
     ],
     "language": "python",
     "metadata": {},
     "outputs": [
      {
       "output_type": "stream",
       "stream": "stdout",
       "text": [
        "10%(46.5s) 20%(114.5s)"
       ]
      },
      {
       "output_type": "stream",
       "stream": "stdout",
       "text": [
        " 30%(207.6s)"
       ]
      },
      {
       "output_type": "stream",
       "stream": "stdout",
       "text": [
        " 40%(334.3s)"
       ]
      },
      {
       "output_type": "stream",
       "stream": "stdout",
       "text": [
        " 50%(525.8s)"
       ]
      },
      {
       "output_type": "stream",
       "stream": "stdout",
       "text": [
        " 60%(734.3s)"
       ]
      },
      {
       "output_type": "stream",
       "stream": "stdout",
       "text": [
        " 70%(920.0s)"
       ]
      },
      {
       "output_type": "stream",
       "stream": "stdout",
       "text": [
        " 81%(1101.9s)"
       ]
      },
      {
       "output_type": "stream",
       "stream": "stdout",
       "text": [
        " 91%(1304.3s)"
       ]
      },
      {
       "output_type": "stream",
       "stream": "stdout",
       "text": [
        " 101%(1519.7s)"
       ]
      },
      {
       "output_type": "stream",
       "stream": "stdout",
       "text": [
        " "
       ]
      },
      {
       "metadata": {},
       "output_type": "display_data",
       "png": "[encoded data removed]",
       "text": [
        "<matplotlib.figure.Figure at 0x7f2b00aa6898>"
       ]
      }
     ],
     "prompt_number": 10
    },
    {
     "cell_type": "code",
     "collapsed": false,
     "input": [
      "from sklearn.dummy import DummyClassifier\n",
      "from sklearn.linear_model import LogisticRegression\n",
      "from sklearn.tree import DecisionTreeClassifier\n",
      "from sklearn.ensemble import GradientBoostingClassifier\n",
      "from sklearn.ensemble import BaggingClassifier\n",
      "from sklearn.ensemble import AdaBoostClassifier\n",
      "from sklearn.ensemble import RandomForestClassifier\n",
      "from sklearn.neural_network import MLPClassifier\n",
      "from sklearn.linear_model import SGDClassifier\n",
      "from sklearn.naive_bayes import GaussianNB\n",
      "\n",
      "classifiers = [\n",
      "    DummyClassifier(strategy='prior'),\n",
      "    LogisticRegression(),\n",
      "    GaussianNB(),    \n",
      "    DecisionTreeClassifier(max_depth=6),\n",
      "    RandomForestClassifier(max_depth=6, n_estimators=100),\n",
      "    MLPClassifier(alpha=1),\n",
      "    SGDClassifier(loss='log'),\n",
      "    BaggingClassifier(n_estimators=100),\n",
      "    AdaBoostClassifier(n_estimators=100),\n",
      "    GradientBoostingClassifier(max_depth=6),\n",
      "]\n",
      "\n",
      "for c in classifiers:\n",
      "    print(\"{:27}: {:.4f}, {:.4f}\".format(*log_loss(c, *dataset)))"
     ],
     "language": "python",
     "metadata": {},
     "outputs": [
      {
       "output_type": "stream",
       "stream": "stdout",
       "text": [
        "DummyClassifier            : 0.2508, 0.2530\n",
        "LogisticRegression         : 0.2402, 0.2421"
       ]
      },
      {
       "output_type": "stream",
       "stream": "stdout",
       "text": [
        "\n",
        "GaussianNB                 : 7.4813, 7.4556"
       ]
      },
      {
       "output_type": "stream",
       "stream": "stdout",
       "text": [
        "\n",
        "DecisionTreeClassifier     : 0.2429, 0.2469"
       ]
      },
      {
       "output_type": "stream",
       "stream": "stdout",
       "text": [
        "\n",
        "RandomForestClassifier     : 0.2435, 0.2461"
       ]
      },
      {
       "output_type": "stream",
       "stream": "stdout",
       "text": [
        "\n",
        "MLPClassifier              : 0.2444, 0.2461"
       ]
      },
      {
       "output_type": "stream",
       "stream": "stdout",
       "text": [
        "\n",
        "SGDClassifier              : 0.2412, 0.2433"
       ]
      },
      {
       "output_type": "stream",
       "stream": "stdout",
       "text": [
        "\n",
        "BaggingClassifier          : 0.0654, 0.4116"
       ]
      },
      {
       "output_type": "stream",
       "stream": "stdout",
       "text": [
        "\n",
        "AdaBoostClassifier         : 0.6809, 0.6809"
       ]
      },
      {
       "output_type": "stream",
       "stream": "stdout",
       "text": [
        "\n",
        "GradientBoostingClassifier : 0.2293, 0.2392"
       ]
      },
      {
       "output_type": "stream",
       "stream": "stdout",
       "text": [
        "\n"
       ]
      }
     ],
     "prompt_number": 9
    }
   ],
   "metadata": {}
  }
 ]
}