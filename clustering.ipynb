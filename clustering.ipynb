{
 "metadata": {
  "name": "",
  "signature": "sha256:b9927e1077f6cb3e72572c768fc9db25d702dc627bb852b8f51bce571eef6526"
 },
 "nbformat": 3,
 "nbformat_minor": 0,
 "worksheets": [
  {
   "cells": [
    {
     "cell_type": "code",
     "collapsed": false,
     "input": [
      "%run 'prepare.py'\n",
      "%matplotlib inline"
     ],
     "language": "python",
     "metadata": {},
     "outputs": [],
     "prompt_number": 1
    },
    {
     "cell_type": "markdown",
     "metadata": {},
     "source": [
      "### Add coordinates of airports"
     ]
    },
    {
     "cell_type": "code",
     "collapsed": false,
     "input": [
      "\"\"\"\n",
      "airports_file = r'/home/blumonk/diploma/airports.csv'\n",
      "airports = pd.read_csv(airports_file, header=None)[[4, 6, 7]]\n",
      "names_from = {4:'iata_from', 6:'lat_from', 7:'long_from'}\n",
      "names_to = {4:'iata_to', 6:'lat_to', 7:'long_to'}\n",
      "prepared = clicks.merge(airports.rename(columns=names_from))\\\n",
      "                 .merge(airports.rename(columns=names_to)) \n",
      "\"\"\""
     ],
     "language": "python",
     "metadata": {},
     "outputs": [],
     "prompt_number": 9
    },
    {
     "cell_type": "code",
     "collapsed": false,
     "input": [
      "from sklearn.preprocessing import LabelEncoder\n",
      "from collections import defaultdict\n",
      "\n",
      "dummies = pd.get_dummies(clicks['referer'], prefix='ref')\n",
      "prepared = pd.concat([clicks.drop('referer', axis=1), dummies], axis=1)\n",
      "prepared.drop(['combo', 'iso_from', 'iso_to', 'ak_from', 'ak_to', 'combo_type'], axis=1, inplace=True)\n",
      "prepared['flight_class'] = prepared['flight_class'] == 'E'\n",
      "prepared['cluster_id'] = prepared['id']\n",
      "\n",
      "encoders_dict = defaultdict(LabelEncoder)\n",
      "to_encode = ['iata_from', 'iata_to']\n",
      "prepared = prepared.apply(lambda x: encoders_dict[x.name].fit_transform(x.astype(str)) \n",
      "                          if x.name in to_encode else x)"
     ],
     "language": "python",
     "metadata": {},
     "outputs": [],
     "prompt_number": 8
    },
    {
     "cell_type": "code",
     "collapsed": false,
     "input": [
      "booked = prepared[prepared.book == 1]\n",
      "empty = prepared[prepared.book == 0].as_matrix()"
     ],
     "language": "python",
     "metadata": {},
     "outputs": [],
     "prompt_number": 9
    },
    {
     "cell_type": "markdown",
     "metadata": {},
     "source": [
      "### Function returns *id* of the nearest purchase (click with *book == 1*)"
     ]
    },
    {
     "cell_type": "code",
     "collapsed": false,
     "input": [
      "from scipy.spatial.distance import cdist\n",
      "\n",
      "w = {\n",
      "    'id': 0, 'cluster_id': 0, 'iata_from': 0, 'iata_to': 0, 'book': 0,\n",
      "    'date': 3000, 'date_from': 1000, 'date_back': 1000,\n",
      "    'a_days': 3000, 'days': 3000,\n",
      "    'price': 10, 'total_price': 10,\n",
      "    'flight_class': 5000,\n",
      "    'adt': 3000, 'inf': 3000, 'chd': 3000,\n",
      "    'return': 5000,\n",
      "    'pr_to': 5000, 'pr_back': 5000,\n",
      "    'mobile': 500,\n",
      "    'ref': 10000\n",
      "}\n",
      "\n",
      "columns = list(prepared.columns)\n",
      "ws = np.array([w['ref'] if c.startswith('ref_') else w[c] for c in columns])\n",
      "def nearest(click):\n",
      "    filtered = booked[(click[4] - 20 < booked.date) & (booked.date < click[4] + 20) &\n",
      "                      (click[1] == booked.iata_from) & (click[2] == booked.iata_to)].as_matrix()\n",
      "    if len(filtered) == 0:\n",
      "        return click[0]\n",
      "    dists = cdist(filtered, [click], metric='wminkowski', p=1, w=ws)\n",
      "    return filtered[dists.argmin()][0]"
     ],
     "language": "python",
     "metadata": {},
     "outputs": [],
     "prompt_number": 86
    },
    {
     "cell_type": "markdown",
     "metadata": {},
     "source": [
      "### Calculate all cluster centers for each click"
     ]
    },
    {
     "cell_type": "code",
     "collapsed": false,
     "input": [
      "from time import time\n",
      "\n",
      "start = time()\n",
      "\n",
      "done, percent = 0, 5\n",
      "results = []\n",
      "for click in empty:\n",
      "    results.append((click[0], nearest(click)))\n",
      "    done += 1\n",
      "    if 100 * done / len(empty) > percent:\n",
      "        print('{:.1f}% {:.1f}s'.format(100*done/len(empty), time()-start), end=' ')\n",
      "        percent += 5\n",
      "       \n",
      "print('{:.2f} sec'.format(time() - start))"
     ],
     "language": "python",
     "metadata": {},
     "outputs": [
      {
       "output_type": "stream",
       "stream": "stdout",
       "text": [
        "5.0% 130.3s 10.0% 270.3s"
       ]
      },
      {
       "output_type": "stream",
       "stream": "stdout",
       "text": [
        " 15.0% 436.6s"
       ]
      },
      {
       "output_type": "stream",
       "stream": "stdout",
       "text": [
        " 20.0% 607.0s"
       ]
      },
      {
       "output_type": "stream",
       "stream": "stdout",
       "text": [
        " 25.0% 777.7s"
       ]
      },
      {
       "output_type": "stream",
       "stream": "stdout",
       "text": [
        " 30.0% 952.6s"
       ]
      },
      {
       "output_type": "stream",
       "stream": "stdout",
       "text": [
        " 35.0% 1122.8s"
       ]
      },
      {
       "output_type": "stream",
       "stream": "stdout",
       "text": [
        " 40.0% 1298.1s"
       ]
      },
      {
       "output_type": "stream",
       "stream": "stdout",
       "text": [
        " 45.0% 1476.6s"
       ]
      },
      {
       "output_type": "stream",
       "stream": "stdout",
       "text": [
        " 50.0% 1664.9s"
       ]
      },
      {
       "output_type": "stream",
       "stream": "stdout",
       "text": [
        " 55.0% 1846.4s"
       ]
      },
      {
       "output_type": "stream",
       "stream": "stdout",
       "text": [
        " 60.0% 2031.2s"
       ]
      },
      {
       "output_type": "stream",
       "stream": "stdout",
       "text": [
        " 65.0% 2219.9s"
       ]
      },
      {
       "output_type": "stream",
       "stream": "stdout",
       "text": [
        " 70.0% 2411.9s"
       ]
      },
      {
       "output_type": "stream",
       "stream": "stdout",
       "text": [
        " 75.0% 2600.4s"
       ]
      },
      {
       "output_type": "stream",
       "stream": "stdout",
       "text": [
        " 80.0% 2779.1s"
       ]
      },
      {
       "output_type": "stream",
       "stream": "stdout",
       "text": [
        " 85.0% 2950.7s"
       ]
      },
      {
       "output_type": "stream",
       "stream": "stdout",
       "text": [
        " 90.0% 3111.3s"
       ]
      },
      {
       "output_type": "stream",
       "stream": "stdout",
       "text": [
        " 95.0% 3263.1s"
       ]
      },
      {
       "output_type": "stream",
       "stream": "stdout",
       "text": [
        " 3397.77 sec"
       ]
      },
      {
       "output_type": "stream",
       "stream": "stdout",
       "text": [
        "\n"
       ]
      }
     ],
     "prompt_number": 107
    },
    {
     "cell_type": "code",
     "collapsed": false,
     "input": [
      "cluster_ids = pd.DataFrame(results).rename(columns={0:'id', 1:'cluster_id'})\n",
      "cluster_ids.head(3)"
     ],
     "language": "python",
     "metadata": {},
     "outputs": [
      {
       "html": [
        "<div style=\"max-width:1500px;overflow:auto;\">\n",
        "<table border=\"1\" class=\"dataframe\">\n",
        "  <thead>\n",
        "    <tr style=\"text-align: right;\">\n",
        "      <th></th>\n",
        "      <th>id</th>\n",
        "      <th>cluster_id</th>\n",
        "    </tr>\n",
        "  </thead>\n",
        "  <tbody>\n",
        "    <tr>\n",
        "      <th>0</th>\n",
        "      <td>1813056</td>\n",
        "      <td>1747059</td>\n",
        "    </tr>\n",
        "    <tr>\n",
        "      <th>1</th>\n",
        "      <td>1813055</td>\n",
        "      <td>1813055</td>\n",
        "    </tr>\n",
        "    <tr>\n",
        "      <th>2</th>\n",
        "      <td>1813054</td>\n",
        "      <td>1799852</td>\n",
        "    </tr>\n",
        "  </tbody>\n",
        "</table>\n",
        "</div>"
       ],
       "metadata": {},
       "output_type": "pyout",
       "prompt_number": 129,
       "text": [
        "        id  cluster_id\n",
        "0  1813056     1747059\n",
        "1  1813055     1813055\n",
        "2  1813054     1799852"
       ]
      }
     ],
     "prompt_number": 129
    },
    {
     "cell_type": "code",
     "collapsed": false,
     "input": [
      "clustered = clicks.merge(cluster_ids, on='id', how='left')\n",
      "clustered['cluster_id'].fillna(clustered['id'], inplace=True)\n",
      "clustered['cluster_id'] = clustered['cluster_id'].astype(int)"
     ],
     "language": "python",
     "metadata": {},
     "outputs": [],
     "prompt_number": 142
    },
    {
     "cell_type": "code",
     "collapsed": false,
     "input": [
      "len(clicks)/len(clicks[clicks.book == 1])"
     ],
     "language": "python",
     "metadata": {},
     "outputs": [
      {
       "metadata": {},
       "output_type": "pyout",
       "prompt_number": 151,
       "text": [
        "14.388592702365678"
       ]
      }
     ],
     "prompt_number": 151
    },
    {
     "cell_type": "code",
     "collapsed": false,
     "input": [
      "desc = clustered.groupby('cluster_id').agg({'book': ['count', 'sum', 'mean']})\n",
      "desc[desc['book','sum'] > 0].describe()"
     ],
     "language": "python",
     "metadata": {},
     "outputs": [
      {
       "html": [
        "<div style=\"max-width:1500px;overflow:auto;\">\n",
        "<table border=\"1\" class=\"dataframe\">\n",
        "  <thead>\n",
        "    <tr>\n",
        "      <th></th>\n",
        "      <th colspan=\"3\" halign=\"left\">book</th>\n",
        "    </tr>\n",
        "    <tr>\n",
        "      <th></th>\n",
        "      <th>count</th>\n",
        "      <th>sum</th>\n",
        "      <th>mean</th>\n",
        "    </tr>\n",
        "  </thead>\n",
        "  <tbody>\n",
        "    <tr>\n",
        "      <th>count</th>\n",
        "      <td>55333.000000</td>\n",
        "      <td>55333.0</td>\n",
        "      <td>55333.000000</td>\n",
        "    </tr>\n",
        "    <tr>\n",
        "      <th>mean</th>\n",
        "      <td>12.774926</td>\n",
        "      <td>1.0</td>\n",
        "      <td>0.172188</td>\n",
        "    </tr>\n",
        "    <tr>\n",
        "      <th>std</th>\n",
        "      <td>11.626424</td>\n",
        "      <td>0.0</td>\n",
        "      <td>0.206063</td>\n",
        "    </tr>\n",
        "    <tr>\n",
        "      <th>min</th>\n",
        "      <td>1.000000</td>\n",
        "      <td>1.0</td>\n",
        "      <td>0.003731</td>\n",
        "    </tr>\n",
        "    <tr>\n",
        "      <th>25%</th>\n",
        "      <td>5.000000</td>\n",
        "      <td>1.0</td>\n",
        "      <td>0.058824</td>\n",
        "    </tr>\n",
        "    <tr>\n",
        "      <th>50%</th>\n",
        "      <td>10.000000</td>\n",
        "      <td>1.0</td>\n",
        "      <td>0.100000</td>\n",
        "    </tr>\n",
        "    <tr>\n",
        "      <th>75%</th>\n",
        "      <td>17.000000</td>\n",
        "      <td>1.0</td>\n",
        "      <td>0.200000</td>\n",
        "    </tr>\n",
        "    <tr>\n",
        "      <th>max</th>\n",
        "      <td>268.000000</td>\n",
        "      <td>1.0</td>\n",
        "      <td>1.000000</td>\n",
        "    </tr>\n",
        "  </tbody>\n",
        "</table>\n",
        "</div>"
       ],
       "metadata": {},
       "output_type": "pyout",
       "prompt_number": 157,
       "text": [
        "               book                       \n",
        "              count      sum          mean\n",
        "count  55333.000000  55333.0  55333.000000\n",
        "mean      12.774926      1.0      0.172188\n",
        "std       11.626424      0.0      0.206063\n",
        "min        1.000000      1.0      0.003731\n",
        "25%        5.000000      1.0      0.058824\n",
        "50%       10.000000      1.0      0.100000\n",
        "75%       17.000000      1.0      0.200000\n",
        "max      268.000000      1.0      1.000000"
       ]
      }
     ],
     "prompt_number": 157
    }
   ],
   "metadata": {}
  }
 ]
}